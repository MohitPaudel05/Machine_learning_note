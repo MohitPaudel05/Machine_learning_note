{
 "cells": [
  {
   "cell_type": "code",
   "execution_count": 1,
   "id": "0cc0b465-68bb-45d9-9057-8eadd0d2de0b",
   "metadata": {},
   "outputs": [],
   "source": [
    "import numpy as np\n",
    "import pandas as pd\n",
    "import matplotlib.pyplot as plt\n",
    "import seaborn as sns"
   ]
  },
  {
   "cell_type": "code",
   "execution_count": 2,
   "id": "974b09f4-23ba-4164-9ad7-ae1682cceb4c",
   "metadata": {},
   "outputs": [
    {
     "data": {
      "text/html": [
       "<div>\n",
       "<style scoped>\n",
       "    .dataframe tbody tr th:only-of-type {\n",
       "        vertical-align: middle;\n",
       "    }\n",
       "\n",
       "    .dataframe tbody tr th {\n",
       "        vertical-align: top;\n",
       "    }\n",
       "\n",
       "    .dataframe thead th {\n",
       "        text-align: right;\n",
       "    }\n",
       "</style>\n",
       "<table border=\"1\" class=\"dataframe\">\n",
       "  <thead>\n",
       "    <tr style=\"text-align: right;\">\n",
       "      <th></th>\n",
       "      <th>Unnamed: 0</th>\n",
       "      <th>TV</th>\n",
       "      <th>radio</th>\n",
       "      <th>newspaper</th>\n",
       "      <th>sales</th>\n",
       "    </tr>\n",
       "  </thead>\n",
       "  <tbody>\n",
       "    <tr>\n",
       "      <th>0</th>\n",
       "      <td>1</td>\n",
       "      <td>230.1</td>\n",
       "      <td>37.8</td>\n",
       "      <td>69.2</td>\n",
       "      <td>22.1</td>\n",
       "    </tr>\n",
       "    <tr>\n",
       "      <th>1</th>\n",
       "      <td>2</td>\n",
       "      <td>44.5</td>\n",
       "      <td>39.3</td>\n",
       "      <td>45.1</td>\n",
       "      <td>10.4</td>\n",
       "    </tr>\n",
       "  </tbody>\n",
       "</table>\n",
       "</div>"
      ],
      "text/plain": [
       "   Unnamed: 0     TV  radio  newspaper  sales\n",
       "0           1  230.1   37.8       69.2   22.1\n",
       "1           2   44.5   39.3       45.1   10.4"
      ]
     },
     "execution_count": 2,
     "metadata": {},
     "output_type": "execute_result"
    }
   ],
   "source": [
    "df = pd.read_csv(\"Advertising.csv\")\n",
    "df.head(2)"
   ]
  },
  {
   "cell_type": "code",
   "execution_count": 3,
   "id": "14419a1b-db45-47b8-bee2-4f4162af6a84",
   "metadata": {},
   "outputs": [],
   "source": [
    "df.drop(\"Unnamed: 0\", inplace = True, axis =1)\n",
    "\n"
   ]
  },
  {
   "cell_type": "code",
   "execution_count": 4,
   "id": "1afdae7f-880f-49df-b136-e6b029ad9f79",
   "metadata": {},
   "outputs": [],
   "source": [
    "X= df.drop(\"sales\",axis=1)\n",
    "y= df['sales']"
   ]
  },
  {
   "cell_type": "code",
   "execution_count": 5,
   "id": "3a9bf9e8-449f-4756-956f-1050b794ce8e",
   "metadata": {},
   "outputs": [],
   "source": [
    "from sklearn.linear_model import LinearRegression\n",
    "from sklearn.metrics import mean_absolute_error, mean_squared_error\n",
    "from sklearn.model_selection import train_test_split\n",
    "from sklearn.preprocessing import PolynomialFeatures\n"
   ]
  },
  {
   "cell_type": "code",
   "execution_count": 6,
   "id": "ac28cfd0-a5ec-4b44-8ea8-81e2f0d1d512",
   "metadata": {},
   "outputs": [],
   "source": [
    "test_rmse=[]\n",
    "train_rmse=[]\n",
    "\n",
    "\n",
    "for d in range(1,6):\n",
    "    poly_convert = PolynomialFeatures(degree =d, include_bias = False)\n",
    "    poly_feature = poly_convert.fit_transform(X)\n",
    "    \n",
    "    # using train and test split\n",
    "    X_train, X_test,y_train,y_test= train_test_split(poly_feature,y,test_size=0.3,random_state=101)\n",
    "    model = LinearRegression()\n",
    "    model.fit(X_train,y_train)\n",
    "\n",
    "    test_predication = model.predict(X_test)\n",
    "    train_predication = model.predict(X_train)\n",
    "\n",
    "     # finding the root mean square error\n",
    "    # for test data\n",
    "    MSE_test= mean_squared_error(y_test,test_predication)\n",
    "    RMSE_test = np.sqrt(MSE_test)\n",
    "\n",
    "    # for train data sets\n",
    "    MSE_train = mean_squared_error(y_train, train_predication)\n",
    "    RMSE_train = np.sqrt(MSE_train)\n",
    "     # now listing all the root mean square error in list we get,\n",
    "\n",
    "    test_rmse.append(RMSE_test)\n",
    "    train_rmse.append(RMSE_train)\n",
    "\n",
    "    \n",
    "    \n",
    "\n",
    "\n",
    "    \n",
    "    \n",
    "    \n",
    "\n",
    "     \n",
    "    \n",
    "    "
   ]
  },
  {
   "cell_type": "code",
   "execution_count": 7,
   "id": "a7cac88f-0253-4803-b703-9fe4427a8fe0",
   "metadata": {},
   "outputs": [
    {
     "data": {
      "text/plain": [
       "[np.float64(1.5161519375993877),\n",
       " np.float64(0.6646431757269089),\n",
       " np.float64(0.5803286825242431),\n",
       " np.float64(0.5077742639736941),\n",
       " np.float64(2.5758252309086074)]"
      ]
     },
     "execution_count": 7,
     "metadata": {},
     "output_type": "execute_result"
    }
   ],
   "source": [
    "test_rmse\n"
   ]
  },
  {
   "cell_type": "code",
   "execution_count": 8,
   "id": "fec7d46b-c4e9-4c99-bf06-e90fb19fb34e",
   "metadata": {},
   "outputs": [
    {
     "data": {
      "text/plain": [
       "[np.float64(1.734594124329376),\n",
       " np.float64(0.587957408529223),\n",
       " np.float64(0.4339344356902067),\n",
       " np.float64(0.3517083688399352),\n",
       " np.float64(0.25093430240186493)]"
      ]
     },
     "execution_count": 8,
     "metadata": {},
     "output_type": "execute_result"
    }
   ],
   "source": [
    "train_rmse"
   ]
  },
  {
   "cell_type": "code",
   "execution_count": null,
   "id": "651764a6-a61c-4bb0-977b-40b1bd950eeb",
   "metadata": {},
   "outputs": [],
   "source": []
  }
 ],
 "metadata": {
  "kernelspec": {
   "display_name": "Python 3 (ipykernel)",
   "language": "python",
   "name": "python3"
  },
  "language_info": {
   "codemirror_mode": {
    "name": "ipython",
    "version": 3
   },
   "file_extension": ".py",
   "mimetype": "text/x-python",
   "name": "python",
   "nbconvert_exporter": "python",
   "pygments_lexer": "ipython3",
   "version": "3.12.4"
  }
 },
 "nbformat": 4,
 "nbformat_minor": 5
}
